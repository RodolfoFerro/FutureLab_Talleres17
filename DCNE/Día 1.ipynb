{
 "cells": [
  {
   "cell_type": "markdown",
   "metadata": {
    "toc": "true"
   },
   "source": [
    "# Table of Contents\n",
    " <p><div class=\"lev1 toc-item\"><a href=\"#Taller-básico-de-programación-en-Python--(Día-1)\" data-toc-modified-id=\"Taller-básico-de-programación-en-Python--(Día-1)-1\"><span class=\"toc-item-num\">1&nbsp;&nbsp;</span><strong>Taller básico de programación en Python</strong> <br> (Día 1)</a></div><div class=\"lev2 toc-item\"><a href=\"#¡Bienvenidos-todos-a-este-taller!\" data-toc-modified-id=\"¡Bienvenidos-todos-a-este-taller!-11\"><span class=\"toc-item-num\">1.1&nbsp;&nbsp;</span>¡Bienvenidos todos a este taller!</a></div><div class=\"lev3 toc-item\"><a href=\"#¿Qué-es-Python?\" data-toc-modified-id=\"¿Qué-es-Python?-111\"><span class=\"toc-item-num\">1.1.1&nbsp;&nbsp;</span>¿Qué es Python?</a></div><div class=\"lev3 toc-item\"><a href=\"#¿Por-qué-Python?\" data-toc-modified-id=\"¿Por-qué-Python?-112\"><span class=\"toc-item-num\">1.1.2&nbsp;&nbsp;</span>¿Por qué Python?</a></div><div class=\"lev3 toc-item\"><a href=\"#¿Qué-aprenderé-este-día?\" data-toc-modified-id=\"¿Qué-aprenderé-este-día?-113\"><span class=\"toc-item-num\">1.1.3&nbsp;&nbsp;</span>¿Qué aprenderé este día?</a></div><div class=\"lev3 toc-item\"><a href=\"#Método-de-trabajo\" data-toc-modified-id=\"Método-de-trabajo-114\"><span class=\"toc-item-num\">1.1.4&nbsp;&nbsp;</span>Método de trabajo</a></div><div class=\"lev3 toc-item\"><a href=\"#Referencia-básica\" data-toc-modified-id=\"Referencia-básica-115\"><span class=\"toc-item-num\">1.1.5&nbsp;&nbsp;</span>Referencia básica</a></div><div class=\"lev2 toc-item\"><a href=\"#Instalación\" data-toc-modified-id=\"Instalación-12\"><span class=\"toc-item-num\">1.2&nbsp;&nbsp;</span>Instalación</a></div><div class=\"lev3 toc-item\"><a href=\"#Jupyter-notebooks\" data-toc-modified-id=\"Jupyter-notebooks-121\"><span class=\"toc-item-num\">1.2.1&nbsp;&nbsp;</span>Jupyter notebooks</a></div><div class=\"lev4 toc-item\"><a href=\"#¡Yei,-ya-estamos-en-el-mismo-notebook!\" data-toc-modified-id=\"¡Yei,-ya-estamos-en-el-mismo-notebook!-1211\"><span class=\"toc-item-num\">1.2.1.1&nbsp;&nbsp;</span>¡Yei, ya estamos en el mismo notebook!</a></div><div class=\"lev2 toc-item\"><a href=\"#Hola-mundo\" data-toc-modified-id=\"Hola-mundo-13\"><span class=\"toc-item-num\">1.3&nbsp;&nbsp;</span>Hola mundo</a></div><div class=\"lev3 toc-item\"><a href=\"#¿Más-interacción?\" data-toc-modified-id=\"¿Más-interacción?-131\"><span class=\"toc-item-num\">1.3.1&nbsp;&nbsp;</span>¿Más interacción?</a></div><div class=\"lev2 toc-item\"><a href=\"#Variables\" data-toc-modified-id=\"Variables-14\"><span class=\"toc-item-num\">1.4&nbsp;&nbsp;</span>Variables</a></div><div class=\"lev3 toc-item\"><a href=\"#Numéricas-(enteros,-de-punto-flotante,-complejos)\" data-toc-modified-id=\"Numéricas-(enteros,-de-punto-flotante,-complejos)-141\"><span class=\"toc-item-num\">1.4.1&nbsp;&nbsp;</span>Numéricas (enteros, de punto flotante, complejos)</a></div><div class=\"lev4 toc-item\"><a href=\"#ALERTA-DE-SPOILER:-Veremos-un-adelanto-de-condicionales...\" data-toc-modified-id=\"ALERTA-DE-SPOILER:-Veremos-un-adelanto-de-condicionales...-1411\"><span class=\"toc-item-num\">1.4.1.1&nbsp;&nbsp;</span>ALERTA DE SPOILER: Veremos un adelanto de condicionales...</a></div><div class=\"lev3 toc-item\"><a href=\"#Booleanos\" data-toc-modified-id=\"Booleanos-142\"><span class=\"toc-item-num\">1.4.2&nbsp;&nbsp;</span>Booleanos</a></div><div class=\"lev3 toc-item\"><a href=\"#Cadenas-de-texto\" data-toc-modified-id=\"Cadenas-de-texto-143\"><span class=\"toc-item-num\">1.4.3&nbsp;&nbsp;</span>Cadenas de texto</a></div>"
   ]
  },
  {
   "cell_type": "markdown",
   "metadata": {
    "slideshow": {
     "slide_type": "slide"
    }
   },
   "source": [
    "<hr><br>\n",
    "\n",
    "# **Taller básico de programación en Python** <br> (Día 1)"
   ]
  },
  {
   "cell_type": "markdown",
   "metadata": {
    "slideshow": {
     "slide_type": "slide"
    }
   },
   "source": [
    "## ¡Bienvenidos todos a este taller!\n",
    "\n",
    "Future·Lab es un espacio de estudiantes, donde trabajamos día a día en resolver problemas sociales y mejorar la calidad de vida a través de desarrollos científico-tecnológicos. Desde el desarrollo de sistemas autónomos que hacen *web scraping* de información y convocatorias, hasta *bots* inteligentes que atiendan peticiones de la ciudadanía y atención a estudiantes. Es de nuestro particular interés fomentar el aprendizaje y desarrollo de más personas para que puedan ayudarnos a construir el futuro que nos gustaría. Es por ello que diseñamos este taller para ti.\n",
    "\n",
    "Puedes consultar el material del taller en el siguiente enlace: [https://rodolfoferro.github.io/FutureLab_Talleres17/](https://rodolfoferro.github.io/FutureLab_Talleres17/).\n",
    "\n",
    "Aquí aprenderás lo básico de programación con [Python](https://www.python.org/), un lenguaje sencillo y poderoso. Para mantener el nivel de aprendizaje lo más parejo posible (seguro hay quienes ya tomaron métodos numéricos), supondremos que conocemos lo que es un lenguaje de programación y qué es programar. **Si no es muy claro, ¡puedes preguntar justo ahora!** \n",
    "\n",
    "Antes de comenzar a –*tirar código*–, responderemos un par de preguntas básicas.\n",
    "\n",
    "### ¿Qué es Python?\n",
    "\n",
    "**Python** es un lenguaje de programación sencillo de aprender y muy utilizado en la actualidad en el ámbito científico y por las mejores universidades del mundo (en Harvard lo utilizan). \n",
    "\n",
    "Al igual que *Matlab*, es un lenguaje de scripting, lo que significa que podemos escribir código en un bloc de notas y un intérprete va a ejecutar línea por línea nuestro código. (*Revisar el Zen de Python.*)\n",
    "\n",
    "### ¿Por qué Python?\n",
    "\n",
    "* Python es un lenguaje *open source*, lo que significa que no necesitamos una licencia para poder descargarlo/instalarlo y utilizarlo y además es muy sencillo que podamos crear código que contribuya a la mejora del lenguaje.\n",
    "* Te darás cuenta de que el lenguaje es muy sencillo de aprender y que con pocas líneas de código podrás hacer mucho.\n",
    "* Existen muchas librerías desarrolladas en Python para realizar muchas cosas. Desde manipulación de imágenes y preocesamiento de lenguaje natural, hasta ploteo y manipulación de moléculas en 3D.\n",
    "* Python permite trabajar de manera interactiva y no sólo con scripts, como puedes ver en este *Jupyter notebook*.\n",
    "* Mucho más, pero esto podemos verlo con un par de ejemplos...\n",
    "(*PokePyBot, Alexa Skills, Multabot, etc.*)\n",
    "\n",
    "### ¿Qué aprenderé este día?\n",
    "\n",
    "* Qué es Python\n",
    "* La sintaxis del lenguaje\n",
    "* Variables\n",
    "* Control de flujo\n",
    "* Ejemplos de aplicaciones de lo anterior\n",
    "\n",
    "### Método de trabajo\n",
    "\n",
    "El taller básico tiene una duración de dos días, con alrededor de ~2.5 horas por día (¡te enseñaremos bien!); iniciaremos con lo básico del lenguaje y terminaremos cada día con aplicaciones que seguro te serán útiles. \n",
    "\n",
    "Trabajaremos de manera interactiva utilizando estos notebooks, pues pensamos en que seguro tienes el interés de conservar todo el material aprendido, así que al final podrás conservar todo este material para ti. De igual manera te enseñaremos cómo correr un script desde tu terminal (línea de comandos) para que seas capaz de crear tus propios scripts.\n",
    "\n",
    "Agradeceremos que si compartes este material, ¡nos des el crédito correspondiente por la elaboración del mismo!\n",
    "\n",
    "### Referencia básica\n",
    "\n",
    "Una referencia básica (y gratis) que puedes descargar para consulta es la siguiente. Libro: [Python para todos](https://launchpadlibrarian.net/18980633/Python%20para%20todos.pdf), de Raúl González Duque."
   ]
  },
  {
   "cell_type": "markdown",
   "metadata": {},
   "source": [
    "## Instalación\n",
    "\n",
    "Podría decirse que hay dos maneras de instalar Python:\n",
    "1. Descargándolo e instalándolo desde el sitio oficial: [https://www.python.org/](https://www.python.org/). <br> Este método de instalación incluye la librería básica del lenguaje, así que si queremos mostrar la gráfica de una función, debemos instalar librerías extra. \n",
    "2. Instalándolo con *Anaconda* [https://www.continuum.io/downloads](https://www.continuum.io/downloads). <br> Este método de instalación es para quienes buscan hacer algo más profesional, pues incluye un stack de librerías súper pro. Aprenderemos a usar algunas de ellas en este taller. 😎\n",
    "\n",
    "Nosotros instalaremos Python a través de *Anaconda*, porque por default incluye la instalación de estos cuadernos para programar."
   ]
  },
  {
   "cell_type": "markdown",
   "metadata": {},
   "source": [
    "### Jupyter notebooks\n",
    "\n",
    "Habiendo instalado *Anaconda*, para ejecutar un *Jupyter notebook* basta abrir la terminal y ejecutar el comando: \n",
    ">`jupyter notebook`\n",
    "\n",
    "Esto abrirá tu navegador y aparecerá el directorio donde podrás navegar hasta donde tengas este cuadernillo.\n",
    "\n",
    "<br>\n",
    "#### ¡Yei, ya estamos en el mismo notebook!\n",
    "\n",
    "Ahora podemos adentrarnos al aprendizaje del lenguaje, pero para familiarizarnos con el uso de los notebooks, te diremos la manera sencilla en que funcionan.\n",
    "\n",
    "En la parte superior podrás encontrar barras de herramientas, puedes explorar por tu cuenta, pero te describiremos lo que más utilizaremos:\n",
    "\n",
    "| Item | Descripción |\n",
    "|------|-------------|\n",
    "|<button><i class=\"fa-step-forward fa\"></i></button> | Botón que te permite ejecutar una celda de código. |\n",
    "|<button><i class=\"fa-stop fa\"></i></button> | Botón que detiene la ejecución de código. |\n",
    "|<button><i class=\"fa-repeat fa\"></i></button> | Botón que reinicia el kernel (podemos pensarlo como el intérprete del código). |\n",
    "|<button><i class=\"fa-arrow-up fa\"></i></button> | Botón que permite mover una celda una posición arriba. |\n",
    "|<button><i class=\"fa-arrow-down fa\"></i></button> | Botón que permite mover una celda una posición abajo. |\n",
    "|<button><i class=\"fa-cut fa\"></i></button> | Botón te permite cortar una celda. |\n",
    "|<button><i class=\"fa-copy fa\"></i></button> | Botón que te permite copiar una celda. |\n",
    "|<button><i class=\"fa-paste fa\"></i></button> | Botón que te permite pegar una celda. |\n",
    "|<button><i class=\"fa-plus fa\"></i></button> | Botón que te permite insertar una nueva celda. |\n",
    "|<button><i class=\"fa-save fa\"></i></button> | Botón que te permite guardar tu notebook (crea un checkpoint). |\n",
    "\n",
    "También hay un menú de comandos que puedes encontrar en el botón <button><i class=\"fa-keyboard-o fa\"></i></button>. Ahí encontrarás por ejemplo que con `Ctrl + Enter` puedes ejecutar una celda de código."
   ]
  },
  {
   "cell_type": "markdown",
   "metadata": {},
   "source": [
    "## Hola mundo\n",
    "\n",
    "Probemos creando nuestro primer `\"Hola mundo\"` con la función `print()`.\n",
    "\n",
    "Ejecuta la siguiente celda de código utilizando seleccionándola y presionando el botón <button><i class=\"fa-step-forward fa\"></i></button> o con `Ctrl + Enter`."
   ]
  },
  {
   "cell_type": "code",
   "execution_count": null,
   "metadata": {
    "ExecuteTime": {
     "end_time": "2017-08-13T07:13:41.713444Z",
     "start_time": "2017-08-13T07:13:41.693218Z"
    }
   },
   "outputs": [],
   "source": [
    "print(\"¡Hola mundo!\")"
   ]
  },
  {
   "cell_type": "markdown",
   "metadata": {},
   "source": [
    "### ¿Más interacción?\n",
    "\n",
    "¡Excelente! Como viste, pudiste hacer que tu computadora imprima un mensaje. ¿Quieres algo más interactivo? Podemos utilizar la función `input()` para que la computadora te arroje un mensaje más amistoso. \n",
    "\n",
    "Ejecuta la siguiente celda de código:"
   ]
  },
  {
   "cell_type": "code",
   "execution_count": null,
   "metadata": {
    "ExecuteTime": {
     "end_time": "2017-08-13T07:35:17.848314Z",
     "start_time": "2017-08-13T07:35:16.090055Z"
    }
   },
   "outputs": [],
   "source": [
    "# Esto es más interactivo:\n",
    "nombre = input(\"¿Cuál es tu nombre? \")\n",
    "print(\"Mucho gusto,\", nombre, \". 😀\")"
   ]
  },
  {
   "cell_type": "markdown",
   "metadata": {},
   "source": [
    "Increíble, ¿no? ¿Ya te sientes un paso más cerca de crear Skynet?\n",
    "\n",
    "¿Qué sucede? Pues input es una función (sí, así como en matemáticas) que recibe un valor $x$ y se interpreta como texto. Al usar la función `print()` separamos por comas los diferentes valores que se imprimirán. En el ejemplo estamos imprimiendo dos cadenas de texto y entre ellas el valor de la variable nombre. \n",
    "\n",
    "La sentencia que sigue después de la almohadilla se conoce como un comentario, lo cual no se ejecuta por el intérprete y sirve para que nosotros sepamos lo que estamos haciendo.\n",
    "\n",
    "¿Confuso? No te preocupes, sobre la marcha quedará más claro. 😌\n",
    "\n",
    "Ahora podemos comenzar a aprender a programar de manera más formal. Comenzaremos entendiendo qué es una variable y los tipos que existen."
   ]
  },
  {
   "cell_type": "markdown",
   "metadata": {},
   "source": [
    "## Variables\n",
    "\n",
    "Podemos pensar en una variable como en matemáticas, un objeto conceptual que puede tomar un valor. En computación existen diferentes tipos de variables, que van desde valores numéricos hasta vectores y cadenas de texto. En muchos lenguajes debemos especificar el tipo de variables, pero Python es lo suficientemente listo como para identificar el tipo de variable con el que se trabaja.\n",
    "\n",
    "Para crear una variable basta definir el nombre de la variable y asignarle el contenido con el operador `=`. Hay un conjunto de reglas para definir el nombre de una variable y pueden ser consultadas aquí: [http://www.w3resource.com/python/python-variable.php](http://www.w3resource.com/python/python-variable.php).\n",
    "\n",
    "A continuación iremos desglozando los diferentes tipos de variables a través de bloques de código.\n",
    "\n",
    "### Numéricas (enteros, de punto flotante, complejos)\n",
    "\n",
    "Una variable numérica alberga el valor de un número, el cuál puede ser un número entero, real (de punto flotante y decimales finitos) o complejo (con parte real y parte imaginaria)."
   ]
  },
  {
   "cell_type": "code",
   "execution_count": null,
   "metadata": {
    "ExecuteTime": {
     "end_time": "2017-08-13T07:33:24.036926Z",
     "start_time": "2017-08-13T07:33:24.020057Z"
    },
    "collapsed": true
   },
   "outputs": [],
   "source": [
    "# Variables numéricas\n",
    "\n",
    "valor_entero = 3\n",
    "valor_flotante = 3.1415926535\n",
    "valor_complejo = 4 + 3j"
   ]
  },
  {
   "cell_type": "markdown",
   "metadata": {},
   "source": [
    "Siéntete libre de cambiar los valores de las variables y en la siguiente celda puedes imprimir el tipo de variable o su valor."
   ]
  },
  {
   "cell_type": "code",
   "execution_count": null,
   "metadata": {
    "ExecuteTime": {
     "end_time": "2017-08-13T07:37:57.247743Z",
     "start_time": "2017-08-13T07:37:57.241043Z"
    }
   },
   "outputs": [],
   "source": [
    "print(\"El valor de la variable es:\", valor_complejo)\n",
    "print(\"El tipo de variable es:\", type(valor_complejo))"
   ]
  },
  {
   "cell_type": "markdown",
   "metadata": {},
   "source": [
    "Estas variables numéricas pueden ser operadas:\n",
    "\n",
    "| Operador | Operación       |\n",
    "| -------- | --------------- |\n",
    "| +        | Suma            |\n",
    "| -        | Resta           |\n",
    "| *        | Multipliacación |\n",
    "| /        | División        |\n",
    "| **       | Potenciación    |\n",
    "| %        | Módulo          |\n",
    "\n",
    "El operador módulo permite obtener el residuo de una división entera. Veamos un ejemplo de ello.\n",
    "\n",
    "<br>\n",
    "#### ALERTA DE SPOILER: Veremos un adelanto de condicionales...\n",
    "\n",
    "Al dividir un número entre 2, si el número es par el residuo es 0, pero si es impar, el residuo de la división es 1. Esto podemos traducirlo a lo siguiente:"
   ]
  },
  {
   "cell_type": "code",
   "execution_count": null,
   "metadata": {
    "ExecuteTime": {
     "end_time": "2017-08-13T07:52:17.709833Z",
     "start_time": "2017-08-13T07:52:17.702123Z"
    }
   },
   "outputs": [],
   "source": [
    "# Juega intercambiando los valores de la variable 'mi_numero'\n",
    "\n",
    "mi_numero = 42\n",
    "\n",
    "if mi_numero % 2 == 0:\n",
    "    print(\"El número es par.\")\n",
    "else:\n",
    "    print(\"El número es impar.\")"
   ]
  },
  {
   "cell_type": "markdown",
   "metadata": {},
   "source": [
    "¿Cómo haríamos para saber si un número es múltiplo de tres? Basándote en el código anterior, escribe un bloque de código en la celda de abajo para saber si 278374287 es un múltiplo de tres.\n",
    "[**HINT**: Puedes copiar y pegar el bloque de código anterior y sólo cambiar lo necesario...]"
   ]
  },
  {
   "cell_type": "code",
   "execution_count": null,
   "metadata": {
    "collapsed": true
   },
   "outputs": [],
   "source": [
    "# ¡Escribe tu código aquí!\n"
   ]
  },
  {
   "cell_type": "markdown",
   "metadata": {},
   "source": [
    "### Booleanos\n",
    "\n",
    "Una variable booleana alberga sólo un valor verdadero (`True`) o falso (`False`). Podemos pensar a nivel binario como un 1 y un 0 equivalentes de manera respectiva."
   ]
  },
  {
   "cell_type": "code",
   "execution_count": null,
   "metadata": {
    "ExecuteTime": {
     "end_time": "2017-08-13T07:40:54.824519Z",
     "start_time": "2017-08-13T07:40:54.818635Z"
    }
   },
   "outputs": [],
   "source": [
    "variable_booleana = True\n",
    "print(\"El valor es:\", variable_booleana)"
   ]
  },
  {
   "cell_type": "markdown",
   "metadata": {},
   "source": [
    "Más adelante veremos la súper utilidad de este tipo de variables..."
   ]
  },
  {
   "cell_type": "markdown",
   "metadata": {},
   "source": [
    "### Cadenas de texto\n",
    "\n",
    "Una cadena de texto es simplemente texto contenido entre los caracteres `\"\"` o `''`. Podemos acceder a cada caracter utilizando lo que se conoce como indexación."
   ]
  },
  {
   "cell_type": "code",
   "execution_count": null,
   "metadata": {
    "ExecuteTime": {
     "end_time": "2017-08-13T07:59:08.265654Z",
     "start_time": "2017-08-13T07:59:08.256608Z"
    }
   },
   "outputs": [],
   "source": [
    "mi_texto = \"Hola, este es un texto de ejemplo.\"\n",
    "print(mi_texto)"
   ]
  },
  {
   "cell_type": "markdown",
   "metadata": {},
   "source": [
    "Considerando este texto de ejemplo, entendamos lo que es la indexación. Claramente, las letras en el texto llevan un orden, pues de no ser así, el mensaje sería otro. Aprovechando este orden, podemos acceder a cada una de las letras por medio del índice numérico (número de posición) que ocupan. El índice siempre inicia en cero:\n",
    "\n",
    "| Caracter | Índice asociado |\n",
    "| ----- | --------------- |\n",
    "|H | 0 |\n",
    "|o | 1 |\n",
    "|l | 2 |\n",
    "|a | 3 |\n",
    "|, | 4 |\n",
    "|  | 5 |\n",
    "|e | 6 |\n",
    "|s | 7 |\n",
    "|t | 8 |\n",
    "|e | 9 |\n",
    "|. | . |\n",
    "|. | . |\n",
    "|. | . |\n",
    "\n",
    "Para acceder al contenido de la variable en la posición determinada por el índice, utilizamos los corchetes (`[]`) como en el siguiente ejemplo."
   ]
  },
  {
   "cell_type": "code",
   "execution_count": null,
   "metadata": {
    "ExecuteTime": {
     "end_time": "2017-08-13T08:05:54.574838Z",
     "start_time": "2017-08-13T08:05:54.566912Z"
    }
   },
   "outputs": [],
   "source": [
    "print(mi_texto[0])\n",
    "print(mi_texto[1])\n",
    "print(mi_texto[2])\n",
    "print(mi_texto[3])"
   ]
  },
  {
   "cell_type": "markdown",
   "metadata": {},
   "source": [
    "Las cadenas de texto tienen operaciones. El operador `+` concatena texto, mientras que el operador `*` repite el texto el número de veces por el que se *multiplica*. Se puede comprender mejor en el siguiente ejemplo."
   ]
  },
  {
   "cell_type": "code",
   "execution_count": null,
   "metadata": {
    "ExecuteTime": {
     "end_time": "2017-08-13T08:44:15.566274Z",
     "start_time": "2017-08-13T08:44:15.548946Z"
    }
   },
   "outputs": [],
   "source": [
    "palabra = \"palabra\"\n",
    "numero = \"tres\"\n",
    "print(palabra + numero)\n",
    "print(palabra * 3)"
   ]
  },
  {
   "cell_type": "code",
   "execution_count": null,
   "metadata": {
    "collapsed": true
   },
   "outputs": [],
   "source": []
  }
 ],
 "metadata": {
  "anaconda-cloud": {},
  "kernelspec": {
   "display_name": "Python [conda root]",
   "language": "python",
   "name": "conda-root-py"
  },
  "language_info": {
   "codemirror_mode": {
    "name": "ipython",
    "version": 3
   },
   "file_extension": ".py",
   "mimetype": "text/x-python",
   "name": "python",
   "nbconvert_exporter": "python",
   "pygments_lexer": "ipython3",
   "version": "3.6.1"
  },
  "toc": {
   "colors": {
    "hover_highlight": "#DAA520",
    "navigate_num": "#000000",
    "navigate_text": "#333333",
    "running_highlight": "#FF0000",
    "selected_highlight": "#FFD700",
    "sidebar_border": "#EEEEEE",
    "wrapper_background": "#FFFFFF"
   },
   "moveMenuLeft": true,
   "nav_menu": {
    "height": "336px",
    "width": "252px"
   },
   "navigate_menu": true,
   "number_sections": false,
   "sideBar": true,
   "threshold": 4,
   "toc_cell": true,
   "toc_section_display": "block",
   "toc_window_display": false,
   "widenNotebook": false
  }
 },
 "nbformat": 4,
 "nbformat_minor": 2
}
